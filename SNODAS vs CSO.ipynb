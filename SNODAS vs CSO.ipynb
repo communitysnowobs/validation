{
 "cells": [
  {
   "cell_type": "markdown",
   "metadata": {},
   "source": [
    "# SNODAS vs CSO\n",
    "\n",
    "This script extracts point data from the [NASA snodas dataset](https://nsidc.org/data/g02158) at the location of CSOs.\n",
    "\n",
    "We're aware of a few other repos that overlap with this work:\n",
    "\n",
    "* David Hill's [matlab and shell scripts](https://github.com/dfosterhill/SNODAS)\n",
    "* David Shean's [Python snowtools](https://github.com/dshean/snowtools)\n",
    "\n",
    "This script calls the [MountainHub API](https://github.com/communitysnowobs/mountainhub-api) \n",
    "\n",
    "### Authors\n",
    "\n",
    "* Jonah Joughin \n",
    "* Anthony Arendt \n",
    "* Emilio Mayorga"
   ]
  },
  {
   "cell_type": "code",
   "execution_count": 1,
   "metadata": {},
   "outputs": [],
   "source": [
    "%matplotlib inline\n",
    "import pandas as pd\n",
    "import xarray as xr\n",
    "from datetime import datetime\n",
    "import seaborn as sns\n",
    "from tqdm import tqdm\n",
    "\n",
    "from validation import SNODAS, Elevation, utils as ut, creds\n",
    "import mtnhubsnow as mh"
   ]
  },
  {
   "cell_type": "markdown",
   "metadata": {},
   "source": [
    "## Download CSO "
   ]
  },
  {
   "cell_type": "code",
   "execution_count": 11,
   "metadata": {},
   "outputs": [
    {
     "data": {
      "text/html": [
       "<div>\n",
       "<style scoped>\n",
       "    .dataframe tbody tr th:only-of-type {\n",
       "        vertical-align: middle;\n",
       "    }\n",
       "\n",
       "    .dataframe tbody tr th {\n",
       "        vertical-align: top;\n",
       "    }\n",
       "\n",
       "    .dataframe thead th {\n",
       "        text-align: right;\n",
       "    }\n",
       "</style>\n",
       "<table border=\"1\" class=\"dataframe\">\n",
       "  <thead>\n",
       "    <tr style=\"text-align: right;\">\n",
       "      <th></th>\n",
       "      <th>id</th>\n",
       "      <th>datetime_utc</th>\n",
       "      <th>latitude</th>\n",
       "      <th>longitude</th>\n",
       "      <th>author_name</th>\n",
       "      <th>obs_type</th>\n",
       "      <th>snow_depth</th>\n",
       "      <th>description</th>\n",
       "      <th>date</th>\n",
       "    </tr>\n",
       "  </thead>\n",
       "  <tbody>\n",
       "    <tr>\n",
       "      <th>571</th>\n",
       "      <td>59e42113e2ee090b1c2ed009</td>\n",
       "      <td>2017-10-14 23:00:00+00:00</td>\n",
       "      <td>43.507211</td>\n",
       "      <td>-110.948868</td>\n",
       "      <td>Jacob Urban</td>\n",
       "      <td>snow_conditions</td>\n",
       "      <td>45.000000</td>\n",
       "      <td>Not enough snow to make safe turns. Weak basal...</td>\n",
       "      <td>2017-10-14</td>\n",
       "    </tr>\n",
       "    <tr>\n",
       "      <th>570</th>\n",
       "      <td>5bfc6c771a711306b450d208</td>\n",
       "      <td>2017-10-15 19:00:00+00:00</td>\n",
       "      <td>44.401997</td>\n",
       "      <td>-121.882284</td>\n",
       "      <td>David Hill</td>\n",
       "      <td>snow_conditions</td>\n",
       "      <td>43.180000</td>\n",
       "      <td></td>\n",
       "      <td>2017-10-15</td>\n",
       "    </tr>\n",
       "    <tr>\n",
       "      <th>569</th>\n",
       "      <td>59e40df6e2ee090b1c0aeb47</td>\n",
       "      <td>2017-10-16 01:40:02.297000+00:00</td>\n",
       "      <td>46.230208</td>\n",
       "      <td>-122.150324</td>\n",
       "      <td>GoatSolo</td>\n",
       "      <td>snow_conditions</td>\n",
       "      <td>15.240000</td>\n",
       "      <td></td>\n",
       "      <td>2017-10-16</td>\n",
       "    </tr>\n",
       "    <tr>\n",
       "      <th>564</th>\n",
       "      <td>59eab71a3a0c020b158f8e62</td>\n",
       "      <td>2017-10-21 02:55:05.614000+00:00</td>\n",
       "      <td>39.749913</td>\n",
       "      <td>-105.873374</td>\n",
       "      <td>Ryo Sueda</td>\n",
       "      <td>snow_conditions</td>\n",
       "      <td>35.559999</td>\n",
       "      <td></td>\n",
       "      <td>2017-10-21</td>\n",
       "    </tr>\n",
       "    <tr>\n",
       "      <th>566</th>\n",
       "      <td>59eab3353ccff80b07dddd98</td>\n",
       "      <td>2017-10-21 02:38:44.385000+00:00</td>\n",
       "      <td>39.774098</td>\n",
       "      <td>-105.889726</td>\n",
       "      <td>Ryo Sueda</td>\n",
       "      <td>snow_conditions</td>\n",
       "      <td>25.400000</td>\n",
       "      <td>Deepest part was about 1.5 feet. only around 4...</td>\n",
       "      <td>2017-10-21</td>\n",
       "    </tr>\n",
       "  </tbody>\n",
       "</table>\n",
       "</div>"
      ],
      "text/plain": [
       "                           id                     datetime_utc   latitude  \\\n",
       "571  59e42113e2ee090b1c2ed009        2017-10-14 23:00:00+00:00  43.507211   \n",
       "570  5bfc6c771a711306b450d208        2017-10-15 19:00:00+00:00  44.401997   \n",
       "569  59e40df6e2ee090b1c0aeb47 2017-10-16 01:40:02.297000+00:00  46.230208   \n",
       "564  59eab71a3a0c020b158f8e62 2017-10-21 02:55:05.614000+00:00  39.749913   \n",
       "566  59eab3353ccff80b07dddd98 2017-10-21 02:38:44.385000+00:00  39.774098   \n",
       "\n",
       "      longitude  author_name         obs_type  snow_depth  \\\n",
       "571 -110.948868  Jacob Urban  snow_conditions   45.000000   \n",
       "570 -121.882284   David Hill  snow_conditions   43.180000   \n",
       "569 -122.150324     GoatSolo  snow_conditions   15.240000   \n",
       "564 -105.873374    Ryo Sueda  snow_conditions   35.559999   \n",
       "566 -105.889726    Ryo Sueda  snow_conditions   25.400000   \n",
       "\n",
       "                                           description       date  \n",
       "571  Not enough snow to make safe turns. Weak basal... 2017-10-14  \n",
       "570                                                    2017-10-15  \n",
       "569                                                    2017-10-16  \n",
       "564                                                    2017-10-21  \n",
       "566  Deepest part was about 1.5 feet. only around 4... 2017-10-21  "
      ]
     },
     "execution_count": 11,
     "metadata": {},
     "output_type": "execute_result"
    }
   ],
   "source": [
    "# Restrict points to the coterminous US\n",
    "region = {\n",
    "    'latmax' : 50,\n",
    "    'latmin' : 25,\n",
    "    'lonmax': -65,\n",
    "    'lonmin': -125,\n",
    "}\n",
    "\n",
    "obs = mh.snow_data(limit=1000, start=datetime(2017,10,1), end=datetime(2018,4,30), bbox=region)\n",
    "obs['date'] = obs.apply(lambda row: datetime.fromisoformat(row['datetime_utc'].strftime('%Y-%m-%d')), axis=1)\n",
    "obs.sort_values(by=['date'], inplace = True)\n",
    "obs.head()"
   ]
  },
  {
   "cell_type": "code",
   "execution_count": null,
   "metadata": {},
   "outputs": [
    {
     "name": "stderr",
     "output_type": "stream",
     "text": [
      "processing 2018-02-08, 84 of 142 dates:  58%|█████▊    | 83/142 [17:21<15:29, 15.76s/it]"
     ]
    }
   ],
   "source": [
    "grouped = obs.groupby('date')\n",
    "snodas_hs = []\n",
    "n = 1\n",
    "# this is to show progress over the iterations\n",
    "pbar = tqdm(grouped)\n",
    "for name, group in pbar:\n",
    "    # get the snowdas data for each day\n",
    "    date = datetime.utcfromtimestamp(group['date'].values[0].tolist()/1e9)\n",
    "    pbar.set_description('processing {}, {} of {} dates'.format(date.strftime(\"%Y-%m-%d\"), n, len(grouped)))\n",
    "    ds = SNODAS.snodas_ds(date)\n",
    "    tgt_x = xr.DataArray(group['longitude'].values, dims=\"points\")\n",
    "    tgt_y = xr.DataArray(group['latitude'].values, dims=\"points\")\n",
    "    for i in range(len(tgt_x)):\n",
    "        snodas_hs.append(ds.sel(x=tgt_x, y=tgt_y, method='nearest').values[0][i]/1000)\n",
    "    n += 1"
   ]
  },
  {
   "cell_type": "markdown",
   "metadata": {},
   "source": [
    "## Combine results into a new dataframe"
   ]
  },
  {
   "cell_type": "code",
   "execution_count": 4,
   "metadata": {},
   "outputs": [],
   "source": [
    "df = pd.DataFrame({\"longitude\":obs.longitude,\n",
    "                   \"latitude\":obs.latitude, \n",
    "                   \"date\":obs.date,\n",
    "                   \"CSO_hs\": obs.snow_depth.values/100, # convert from cm to m\n",
    "                   \"snodas_hs\": snodas_hs})"
   ]
  },
  {
   "cell_type": "markdown",
   "metadata": {},
   "source": [
    "## Make a scatter plot of the data"
   ]
  },
  {
   "cell_type": "code",
   "execution_count": 5,
   "metadata": {},
   "outputs": [
    {
     "data": {
      "text/plain": [
       "<AxesSubplot:xlabel='CSO_hs', ylabel='snodas_hs'>"
      ]
     },
     "execution_count": 5,
     "metadata": {},
     "output_type": "execute_result"
    },
    {
     "data": {
      "image/png": "[encoded data removed]",
      "text/plain": [
       "<Figure size 432x288 with 1 Axes>"
      ]
     },
     "metadata": {
      "needs_background": "light"
     },
     "output_type": "display_data"
    }
   ],
   "source": [
    "sns.scatterplot(x=\"CSO_hs\",y=\"snodas_hs\", data=df)"
   ]
  },
  {
   "cell_type": "code",
   "execution_count": null,
   "metadata": {},
   "outputs": [],
   "source": []
  }
 ],
 "metadata": {
  "kernelspec": {
   "display_name": "Python [conda env:CSO-validation]",
   "language": "python",
   "name": "conda-env-CSO-validation-py"
  },
  "language_info": {
   "codemirror_mode": {
    "name": "ipython",
    "version": 3
   },
   "file_extension": ".py",
   "mimetype": "text/x-python",
   "name": "python",
   "nbconvert_exporter": "python",
   "pygments_lexer": "ipython3",
   "version": "3.9.6"
  }
 },
 "nbformat": 4,
 "nbformat_minor": 4
}
