{
 "cells": [
  {
   "cell_type": "markdown",
   "id": "18e7efb0-40b4-46f7-a531-25fc0ba531b8",
   "metadata": {},
   "source": [
    "# CSO QaQc: Zero Depth Value Exploration\n",
    "\n",
    "We know that `Zero` depth values are worth keeping and valuable pieces of data. However there seems to be some inconsistencies when it comes to the filtering of these values, we will explore this in this Notebook"
   ]
  },
  {
   "cell_type": "code",
   "execution_count": 1,
   "id": "e6f65813-9863-4972-91dc-c8ede54066bb",
   "metadata": {},
   "outputs": [],
   "source": [
    "import requests\n",
    "import pandas as pd\n",
    "import geopandas as gpd\n",
    "import matplotlib.pyplot as plt\n",
    "import cartopy.crs as ccrs\n",
    "import cartopy.io.img_tiles as cimgt\n",
    "\n",
    "# Import necessary packages, may need more or less as I go."
   ]
  },
  {
   "cell_type": "code",
   "execution_count": null,
   "id": "5f41fad1-983b-431a-a89a-a2f206f6d1a2",
   "metadata": {},
   "outputs": [],
   "source": [
    "CSO_gdf = gpd.read_file('CSOgeodata.geojson')\n",
    "CSO_gdf['timestamp'] = pd.to_datetime(CSO_gdf.timestamp)"
   ]
  },
  {
   "cell_type": "code",
   "execution_count": null,
   "id": "a1b7af74-d97a-4f28-aa51-700e74d807da",
   "metadata": {},
   "outputs": [],
   "source": [
    "CSO_gdf['flags'] = False\n",
    "CSO_gdf"
   ]
  },
  {
   "cell_type": "code",
   "execution_count": null,
   "id": "3c1a4b02-f3de-4305-bc1f-3a3fba7e2374",
   "metadata": {},
   "outputs": [],
   "source": [
    "ZERO = 0\n",
    "CSO_gdf.loc[CSO_gdf['depth'] <= ZERO, 'flags'] = True\n",
    "CSO_noZeros = (CSO_gdf.loc[CSO_gdf['flags'] == False])\n",
    "CSO_zeros = CSO_gdf.loc[CSO_gdf['flags'] == True]\n",
    "CSO_zeros"
   ]
  },
  {
   "cell_type": "code",
   "execution_count": null,
   "id": "58db29f8-bfd0-414a-807a-01f66cac6cea",
   "metadata": {},
   "outputs": [],
   "source": [
    "CSO_zeros[['depth','source']].groupby(['source']).agg(['count'])"
   ]
  },
  {
   "cell_type": "markdown",
   "id": "9360962e-4023-4fb2-9a04-a769dcd95d2a",
   "metadata": {},
   "source": [
    "### SnowPilot Zeros\n",
    "\n",
    "* These have been discussed to be mostly unintentional due to some problem when compiling the data from SnowPilot as it has many more fields to fill in when compared to thing such as MountainHub. We need to reach out and figure out the procedure/see if these are intentional.\n",
    "\n",
    "### MountainHub Zeros\n",
    "\n",
    "* These are valuable pieces of data however there is only 24 pieces of data, which seems rather low when considering the amount of `Zeros` that people have said they have submitted."
   ]
  },
  {
   "cell_type": "code",
   "execution_count": null,
   "id": "07181100-1ae4-4ff1-bcf6-96ebbfc78c07",
   "metadata": {},
   "outputs": [],
   "source": [
    "CSO_zeros.loc[CSO_zeros['source'] == \"MountainHub\"]"
   ]
  },
  {
   "cell_type": "markdown",
   "id": "a7d31f7f-737c-4c98-b48a-50e9dfdd78ef",
   "metadata": {},
   "source": [
    "### Interesting note\n",
    "\n",
    "Dave had mentioned recording `Zero` values from his office on Mountainhub but none of them are present?"
   ]
  },
  {
   "cell_type": "code",
   "execution_count": null,
   "id": "71461765-e04b-480a-b894-bf68c2b76cc0",
   "metadata": {},
   "outputs": [],
   "source": [
    "CSO_DAVE = CSO_gdf.loc[CSO_gdf['author'] == \"David Hill\"]\n",
    "CSO_DAVE"
   ]
  },
  {
   "cell_type": "code",
   "execution_count": null,
   "id": "7313c0fe-5606-44fb-b534-dc19fcf4f248",
   "metadata": {},
   "outputs": [],
   "source": [
    "CSO_DAVE_zeros = CSO_DAVE.loc[CSO_DAVE['flags'] == True]\n",
    "CSO_DAVE_zeros"
   ]
  },
  {
   "cell_type": "markdown",
   "id": "5afc645f-1826-44cb-b28c-358ba670ce22",
   "metadata": {},
   "source": [
    "We can see that theres still no `Zero` depth values for Dave even though he had said that he had recorded them. This will take some asking around as I could be wrong in this assumption."
   ]
  },
  {
   "cell_type": "markdown",
   "id": "fe081b9d-6979-4d0b-955b-5a373662ed15",
   "metadata": {},
   "source": [
    "### Histogram for Elevation of CSO dataset"
   ]
  },
  {
   "cell_type": "code",
   "execution_count": null,
   "id": "e2773ae4-9d66-40e3-8d7f-b17851f8b1e2",
   "metadata": {},
   "outputs": [],
   "source": [
    "histogram_gdf = CSO_gdf['elevation'].hist(bins = 25)"
   ]
  },
  {
   "cell_type": "markdown",
   "id": "17a69877-a919-4abd-912b-9a7420cb6985",
   "metadata": {},
   "source": [
    "### Histogram for Elevation of CSO zero values"
   ]
  },
  {
   "cell_type": "code",
   "execution_count": null,
   "id": "08c8d0bc-c18f-4e03-8777-4cd87e00f50d",
   "metadata": {},
   "outputs": [],
   "source": [
    "histogram_flag = CSO_zeros['elevation'].hist(bins = 25)"
   ]
  },
  {
   "cell_type": "markdown",
   "id": "26e10cf9-8d4b-4a94-8711-45d36c964164",
   "metadata": {},
   "source": [
    "### Histogram for CSO data depth values"
   ]
  },
  {
   "cell_type": "code",
   "execution_count": null,
   "id": "01761ef3-74a3-4883-b410-83b802e65a51",
   "metadata": {},
   "outputs": [],
   "source": [
    "histogram_depth = CSO_gdf['depth'].hist(bins = 25)"
   ]
  },
  {
   "cell_type": "markdown",
   "id": "8d3738df-bd5a-4e43-8c7b-ddae963c0cd4",
   "metadata": {},
   "source": [
    "Looking at the Depth values on the histogram we can see that most depth observations are under 200 cm. With this in mind we can possible remove bad depth observations by flagging values that are unreasonably low."
   ]
  },
  {
   "cell_type": "markdown",
   "id": "c180716b-6c00-4bd9-841d-4691729fa307",
   "metadata": {},
   "source": [
    "## Flagging values for depth observations that are unreasonably low.\n",
    "\n",
    "This is a somewhat arbitrary test and may need some fleshing out in terms of numbers."
   ]
  },
  {
   "cell_type": "code",
   "execution_count": null,
   "id": "06164509-9f66-4efe-98eb-cfb17a615d83",
   "metadata": {},
   "outputs": [],
   "source": [
    "LOW = 3\n",
    "CSO_gdf_LOW = gpd.read_file('CSOgeodata.geojson')\n",
    "CSO_gdf_LOW.loc[CSO_gdf_LOW['depth'] <= LOW, 'flags'] = True\n",
    "CSO_gdf_LOW.loc[CSO_gdf_LOW['depth'] == ZERO, 'flags'] = False\n",
    "CSO_LOW = CSO_gdf_LOW.loc[CSO_gdf_LOW['flags'] == True]\n",
    "CSO_LOW"
   ]
  },
  {
   "cell_type": "code",
   "execution_count": null,
   "id": "56523551-56c4-4e19-bd3d-b57d05cbddff",
   "metadata": {},
   "outputs": [],
   "source": [
    "CSO_LOW[['depth','source']].groupby(['source']).agg(['count'])"
   ]
  },
  {
   "cell_type": "code",
   "execution_count": null,
   "id": "9005596b-0ffc-4435-bd0f-8ed055262051",
   "metadata": {},
   "outputs": [],
   "source": [
    "CSO_LOW.loc[CSO_LOW['source'] == \"MountainHub\"]"
   ]
  },
  {
   "cell_type": "markdown",
   "id": "4b54a5a2-2350-489d-9407-00536b385cca",
   "metadata": {},
   "source": [
    "I think using an unreasonably low check seems to be a bit unecessary as it seems that many of our own team members are recording low depth values, so the authenticity of low values seems fairly strong."
   ]
  },
  {
   "cell_type": "markdown",
   "id": "2daf7844-cc08-4ec5-b8a7-4c4562a5e1ec",
   "metadata": {},
   "source": [
    "## How Impactful Are Zero Values?\n",
    "\n",
    "Here is where I'll explore how much impact `Zero` depth values have on things such as discriptive statistics."
   ]
  },
  {
   "cell_type": "code",
   "execution_count": null,
   "id": "2525a173-b4ef-404e-8b11-9b4905b3d084",
   "metadata": {},
   "outputs": [],
   "source": [
    "# Here is the mean depth value of the CSO data.\n",
    "CSO_mean = CSO_gdf['depth'].mean()\n",
    "CSO_mean"
   ]
  },
  {
   "cell_type": "code",
   "execution_count": null,
   "id": "5a5fa1a9-839a-4819-a7b3-dddb50c8525d",
   "metadata": {},
   "outputs": [],
   "source": [
    "# Here is the mean now with zero values excluded from the data.\n",
    "CSO_meanNoZero = CSO_noZeros['depth'].mean()\n",
    "CSO_meanNoZero"
   ]
  },
  {
   "cell_type": "markdown",
   "id": "420cba95-fd65-4c1b-9dc9-3380f9eadaf6",
   "metadata": {},
   "source": [
    "Interestingly, they don't actually have that much of an effect on the data set when looked as a WHOLE. This makes sense as they make up a small amount of the data."
   ]
  },
  {
   "cell_type": "markdown",
   "id": "eb8c08c8-7e11-4570-ba77-0b641a0736ba",
   "metadata": {},
   "source": [
    "## Domain Specific Zero Depth Exploration\n",
    "\n",
    "Now we will be looking at a region where `Zero` depth values actually have a noticeable impact on the data. This region will be California as defined by `CSO_CA`."
   ]
  },
  {
   "cell_type": "code",
   "execution_count": null,
   "id": "bd385e98-facd-4118-912a-e26844fa172f",
   "metadata": {},
   "outputs": [],
   "source": [
    "CSO_CA = gpd.read_file('CSO_CA.geojson')\n",
    "CSO_gdf['timestamp'] = pd.to_datetime(CSO_gdf.timestamp)"
   ]
  },
  {
   "cell_type": "code",
   "execution_count": null,
   "id": "383b8b31-a34e-4125-b2d4-f7d9b31831ad",
   "metadata": {},
   "outputs": [],
   "source": [
    "CSO_CA['flags'] = False\n",
    "CSO_CA"
   ]
  },
  {
   "cell_type": "code",
   "execution_count": null,
   "id": "93401ffd-c986-4e29-95ad-f7ad09353053",
   "metadata": {},
   "outputs": [],
   "source": [
    "CSO_CA.loc[CSO_CA['depth'] <= ZERO, 'flags'] = True\n",
    "CSO_noCA = (CSO_CA.loc[CSO_CA['flags'] == False])\n",
    "CSO_CAzeros = CSO_CA.loc[CSO_CA['flags'] == True]\n",
    "CSO_CAzeros"
   ]
  },
  {
   "cell_type": "code",
   "execution_count": null,
   "id": "0a5310a0-d746-4935-b100-20b1b539e6db",
   "metadata": {},
   "outputs": [],
   "source": [
    "CSO_CAzeros[['depth','source']].groupby(['source']).agg(['count'])"
   ]
  },
  {
   "cell_type": "code",
   "execution_count": null,
   "id": "6d46c948-b3c7-420e-8234-5e8952963bc5",
   "metadata": {},
   "outputs": [],
   "source": [
    "CSO_meanCA = CSO_CA['depth'].mean()\n",
    "CSO_meanCA"
   ]
  },
  {
   "cell_type": "code",
   "execution_count": null,
   "id": "ce3f38ab-537d-4a3a-946a-d8c08e46af6b",
   "metadata": {},
   "outputs": [],
   "source": [
    "CSO_noZeroMean = CSO_noCA['depth'].mean()\n",
    "CSO_noZeroMean"
   ]
  },
  {
   "cell_type": "code",
   "execution_count": null,
   "id": "bfc2cdcf-7dbe-4e8b-97fb-46aab8d8ac46",
   "metadata": {},
   "outputs": [],
   "source": [
    "histogram_CA = CSO_CA['elevation'].hist(bins = 50)\n",
    "histogram_CA"
   ]
  },
  {
   "cell_type": "code",
   "execution_count": null,
   "id": "307238a7-7737-4c7c-b0ce-22d962593fa1",
   "metadata": {},
   "outputs": [],
   "source": [
    "histogram_CAnoZeros = CSO_noCA['elevation'].hist(bins = 50)\n",
    "histogram_CAnoZeros"
   ]
  },
  {
   "cell_type": "markdown",
   "id": "57fff8d1-d52b-49c8-8116-869beb81cae6",
   "metadata": {},
   "source": [
    "The zeros are actually very impactful in this region as the amount of `Zero` depth values is relatively higher than most regions. "
   ]
  },
  {
   "cell_type": "markdown",
   "id": "5149bd0f-23a8-4dd3-a204-9cdf266f4852",
   "metadata": {},
   "source": [
    "From all of this exploration I think it highlights an important aspect that I have not mentioned. The effect that `Zero` depth values have is very reliant on the amount of data in a given region. If we look at California as defined by `CSO_CA` we can see that Zeros are actually very impactful as that region has a rather large amount of these values when compared to most. These also all seem a bit unintentional as they come from SnowPilot. Also another interesting fact about those SnowPilot `Zero` depth values is that they ALL come from 2017. So I wonder if there was some sort of miscommunication or a specific part of 2017 that lead to this possible error."
   ]
  }
 ],
 "metadata": {
  "kernelspec": {
   "display_name": "Python [conda env:cso_obsdata]",
   "language": "python",
   "name": "conda-env-cso_obsdata-py"
  },
  "language_info": {
   "codemirror_mode": {
    "name": "ipython",
    "version": 3
   },
   "file_extension": ".py",
   "mimetype": "text/x-python",
   "name": "python",
   "nbconvert_exporter": "python",
   "pygments_lexer": "ipython3",
   "version": "3.9.2"
  }
 },
 "nbformat": 4,
 "nbformat_minor": 5
}
